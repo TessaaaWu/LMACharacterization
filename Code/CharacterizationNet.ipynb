{
 "cells": [
  {
   "cell_type": "code",
   "execution_count": null,
   "metadata": {},
   "outputs": [],
   "source": [
    "# Importing necessary libraries\n",
    "import time\n",
    "import numpy as np\n",
    "import matplotlib.pyplot as plt\n",
    "from sklearn.model_selection import train_test_split\n",
    "\n",
    "import torch\n",
    "import torch.nn as nn\n",
    "import torch.optim as optim\n",
    "import torch.nn.functional as F\n",
    "from torch.utils.data import DataLoader, Dataset, TensorDataset\n",
    "import torchvision.transforms as transforms\n"
   ]
  },
  {
   "cell_type": "markdown",
   "metadata": {},
   "source": [
    "Load synthetic data"
   ]
  },
  {
   "cell_type": "code",
   "execution_count": null,
   "metadata": {},
   "outputs": [],
   "source": [
    "syn_images = np.loadtxt('Image_CVAE/images.txt')\n",
    "syn_labels = np.loadtxt('Image_CVAE/labels.txt')\n",
    "syn_angles = np.loadtxt('Image_CVAE/angles.txt')"
   ]
  },
  {
   "cell_type": "code",
   "execution_count": null,
   "metadata": {},
   "outputs": [],
   "source": [
    "# Data preprocessing\n",
    "n_syn = 40000  # Number of synthetic samples\n",
    "syn_data = np.reshape(syn_images, (n_syn, 90, 90))  # Reshape images to 90x90\n",
    "syn_data = syn_data[:, np.newaxis, :, :]  # Add a new axis to match model input requirements\n",
    "syn_angles_std = syn_angles / 90  # Normalize angles by dividing by 90"
   ]
  },
  {
   "cell_type": "code",
   "execution_count": null,
   "metadata": {},
   "outputs": [],
   "source": [
    "# Convert data to PyTorch tensors\n",
    "syn_images_tensor = torch.tensor(syn_data, dtype=torch.float32)\n",
    "syn_labels_tensor = torch.tensor(syn_labels, dtype=torch.float32)\n",
    "syn_angles_tensor = torch.tensor(syn_angles_std, dtype=torch.float32)\n",
    "\n",
    "# Split data into training and testing sets\n",
    "X_train, X_test, y1_train, y1_test, y2_train, y2_test = train_test_split(\n",
    "    syn_images_tensor, syn_labels_tensor, syn_angles_tensor, test_size=0.05, random_state=42\n",
    ")\n",
    "\n",
    "# Create TensorDataset\n",
    "train_dataset = TensorDataset(X_train, y1_train, y2_train)\n",
    "test_dataset = TensorDataset(X_test, y1_test, y2_test)\n",
    "\n",
    "# Create DataLoader\n",
    "batch_size = 512  \n",
    "train_loader = DataLoader(train_dataset, batch_size=batch_size, shuffle=True)"
   ]
  },
  {
   "cell_type": "code",
   "execution_count": null,
   "metadata": {},
   "outputs": [],
   "source": [
    "# Device\n",
    "device = torch.device(\"cuda:1\" if torch.cuda.is_available() else \"cpu\")\n",
    "print('Device:', device)"
   ]
  },
  {
   "cell_type": "markdown",
   "metadata": {},
   "source": [
    "CNN"
   ]
  },
  {
   "cell_type": "code",
   "execution_count": null,
   "metadata": {},
   "outputs": [],
   "source": [
    "class SimpleCNN(nn.Module):\n",
    "    def __init__(self):\n",
    "        super(SimpleCNN, self).__init__()\n",
    "        \n",
    "        # Define convolutional layers\n",
    "        self.conv1 = nn.Conv2d(1, 32, 3, padding=1)  # First convolutional layer\n",
    "        self.conv2 = nn.Conv2d(32, 64, 3, padding=1)  # Second convolutional layer\n",
    "        self.conv3 = nn.Conv2d(64, 128, 3, padding=1)  # Third convolutional layer\n",
    "\n",
    "        # Define fully connected layers\n",
    "        self.fc1 = nn.Linear(128 * 11 * 11, 128)  # Fully connected layer 1\n",
    "        self.fc2 = nn.Linear(128, 1)  # Fully connected layer 2 for first output\n",
    "        self.fc3 = nn.Linear(128, 1)  # Fully connected layer 3 for second output\n",
    "\n",
    "    def forward(self, x):\n",
    "        # Apply convolutional layers with ReLU activation and max pooling\n",
    "        x = F.relu(self.conv1(x))\n",
    "        x = F.max_pool2d(x, 2)\n",
    "        x = F.relu(self.conv2(x))\n",
    "        x = F.max_pool2d(x, 2)\n",
    "        x = F.relu(self.conv3(x))\n",
    "        x = F.max_pool2d(x, 2)\n",
    "        \n",
    "        # Flatten the tensor\n",
    "        x = x.view(-1, 128 * 11 * 11)\n",
    "        \n",
    "        # Apply fully connected layers with activation functions\n",
    "        x = F.relu(self.fc1(x))\n",
    "        x1 = torch.sigmoid(self.fc2(x))  # Output 1 with sigmoid activation\n",
    "        x2 = torch.tanh(self.fc3(x))  # Output 2 with tanh activation\n",
    "        \n",
    "        return x1, x2\n"
   ]
  },
  {
   "cell_type": "code",
   "execution_count": null,
   "metadata": {},
   "outputs": [],
   "source": [
    "# Initialize the model and move it to the specified device\n",
    "model = SimpleCNN()\n",
    "model = model.to(device)\n"
   ]
  },
  {
   "cell_type": "code",
   "execution_count": null,
   "metadata": {},
   "outputs": [],
   "source": [
    "# Define loss functions\n",
    "criterion_y1 = nn.BCELoss()  # Binary Cross Entropy Loss for Linearity\n",
    "criterion_y2 = nn.MSELoss()  # Mean Squared Error Loss for Orientation"
   ]
  },
  {
   "cell_type": "code",
   "execution_count": null,
   "metadata": {},
   "outputs": [],
   "source": [
    "# Initialize optimizer and learning rate scheduler\n",
    "optimizer = optim.Adam(model.parameters(), lr=0.001)\n",
    "scheduler = torch.optim.lr_scheduler.ExponentialLR(optimizer, gamma=0.995)"
   ]
  },
  {
   "cell_type": "markdown",
   "metadata": {},
   "source": [
    "Network training"
   ]
  },
  {
   "cell_type": "code",
   "execution_count": null,
   "metadata": {},
   "outputs": [],
   "source": [
    "# Training loop\n",
    "start_time = time.time()\n",
    "train_losses_y1 = [] \n",
    "train_losses_y2 = [] \n",
    "train_losses = [] \n",
    "Accuracy_test = []\n",
    "test_losses_y1 = [] \n",
    "test_losses_y2 = [] \n",
    "test_losses = [] \n",
    "\n",
    "epochs = 2\n",
    "for epoch in range(epochs):\n",
    "    model.train()  # Set the model to training mode\n",
    "    running_loss = 0.0\n",
    "    running_loss_y1 = 0.0\n",
    "    running_loss_y2 = 0.0\n",
    "    for images, labels, angles in train_loader:\n",
    "        labels = labels.view(-1, 1).to(device).float()\n",
    "        angles = angles.view(-1, 1).to(device).float()\n",
    "        \n",
    "        optimizer.zero_grad() \n",
    "        outputs_y1, outputs_y2 = model(images.to(device))\n",
    "\n",
    "        loss_y1 = criterion_y1(outputs_y1, labels)\n",
    "        loss_y2 = criterion_y2(outputs_y2, angles)\n",
    "        loss = loss_y1 + loss_y2\n",
    "        \n",
    "        loss.backward()\n",
    "        optimizer.step()\n",
    "        running_loss_y1 += loss_y1.item()\n",
    "        running_loss_y2 += loss_y2.item()\n",
    "        running_loss += loss.item()\n",
    "    \n",
    "    mean_loss = running_loss / len(train_loader)\n",
    "    mean_loss_y1 = running_loss_y1 / len(train_loader)\n",
    "    mean_loss_y2 = running_loss_y2 / len(train_loader)\n",
    "    train_losses_y1.append(mean_loss_y1)\n",
    "    train_losses_y2.append(mean_loss_y2)\n",
    "    train_losses.append(mean_loss)\n",
    "    scheduler.step()\n",
    "    \n",
    "    # Evaluation on test set\n",
    "    model.eval()  # Set the model to evaluation mode\n",
    "    with torch.no_grad():\n",
    "        X_test = X_test.to(device)\n",
    "        y1_test = y1_test.to(device).float().view(-1, 1)\n",
    "        y2_test = y2_test.to(device).float().view(-1, 1)\n",
    "        \n",
    "        outputs_y1, outputs_y2 = model(X_test)\n",
    "        \n",
    "        loss_y1 = criterion_y1(outputs_y1, y1_test)\n",
    "        loss_y2 = criterion_y2(outputs_y2, y2_test)\n",
    "        loss = loss_y1 + loss_y2\n",
    "        \n",
    "        predicted = (outputs_y1 > 0.5).float()  # Convert output to 0 or 1\n",
    "        total_t = y1_test.size(0)\n",
    "        correct_t = (predicted.view(-1) == y1_test).sum().item()\n",
    "    \n",
    "    test_losses_y1.append(loss_y1)\n",
    "    test_losses_y2.append(loss_y2)\n",
    "    test_losses.append(loss)\n",
    "    Accuracy_test.append(correct_t / total_t)\n",
    "    \n",
    "    print(f\"Epoch {epoch+1}, Loss: {mean_loss:.4f}, Loss_y1: {mean_loss_y1:.4f}, Loss_y2: {mean_loss_y2:.4f}, \"\n",
    "          f\"Test Loss: {loss:.4f}, Test Loss_y1: {loss_y1:.4f}, Test Loss_y2: {loss_y2:.4f}, \"\n",
    "          f\"Test Accuracy: {100 * correct_t / total_t:.2f}%\")\n",
    "\n",
    "end_time = time.time()\n",
    "print('Training time: ', end_time - start_time, ' s')\n"
   ]
  },
  {
   "cell_type": "markdown",
   "metadata": {},
   "source": [
    "Save network"
   ]
  },
  {
   "cell_type": "code",
   "execution_count": null,
   "metadata": {},
   "outputs": [],
   "source": [
    "# torch.save(model, 'CharacterizationNet.pth')"
   ]
  },
  {
   "cell_type": "markdown",
   "metadata": {},
   "source": [
    "Loss curves"
   ]
  },
  {
   "cell_type": "code",
   "execution_count": null,
   "metadata": {},
   "outputs": [],
   "source": [
    "# Training Loss\n",
    "plt.figure(figsize=(12, 5))\n",
    "plt.subplot(1, 3, 1)\n",
    "plt.plot(train_losses_y1, label='Training Loss y1')\n",
    "plt.plot(train_losses_y2, label='Training Loss y2')\n",
    "plt.plot(train_losses, label='Training Loss')\n",
    "plt.yscale('log')\n",
    "plt.xlabel('Epochs')\n",
    "plt.ylabel('Loss')\n",
    "plt.title('Training Loss')\n",
    "plt.legend()\n",
    "\n",
    "# Test Loss\n",
    "plt.subplot(1, 3, 2)\n",
    "plt.plot(test_losses_y1, label='Test Loss y1')\n",
    "plt.plot(test_losses_y2, label='Test Loss y2')\n",
    "plt.plot(test_losses, label='Test Loss')\n",
    "plt.yscale('log')\n",
    "plt.xlabel('Epochs')\n",
    "plt.ylabel('Loss')\n",
    "plt.title('Test Loss')\n",
    "plt.legend()\n",
    "\n",
    "# Test accuracy\n",
    "plt.subplot(1, 3, 3)\n",
    "plt.plot(Accuracy_test, label='Test Accuracy', color='orange')\n",
    "plt.xlabel('Epochs')\n",
    "plt.ylabel('Accuracy')\n",
    "plt.title('Test Accuracy')\n",
    "plt.legend()\n",
    "\n"
   ]
  }
 ],
 "metadata": {
  "kernelspec": {
   "display_name": "tf_gpu",
   "language": "python",
   "name": "python3"
  },
  "language_info": {
   "codemirror_mode": {
    "name": "ipython",
    "version": 3
   },
   "file_extension": ".py",
   "mimetype": "text/x-python",
   "name": "python",
   "nbconvert_exporter": "python",
   "pygments_lexer": "ipython3",
   "version": "3.6.9"
  }
 },
 "nbformat": 4,
 "nbformat_minor": 2
}
